{
 "cells": [
  {
   "cell_type": "markdown",
   "id": "8b16ec0d",
   "metadata": {
    "id": "8b16ec0d"
   },
   "source": [
    "# ML Course 2024 |  Medical Expenses Prediction Challenge\n",
    "\n",
    "This notebook should serve as a starting point to work on the project. Please read the project description first."
   ]
  },
  {
   "cell_type": "markdown",
   "id": "f6a3a951",
   "metadata": {
    "id": "f6a3a951"
   },
   "source": [
    "# Set team ID\n",
    "Important: set your Team ID here. You can find it in CMS."
   ]
  },
  {
   "cell_type": "code",
   "execution_count": 1,
   "id": "b2bdc09f",
   "metadata": {
    "executionInfo": {
     "elapsed": 377,
     "status": "ok",
     "timestamp": 1716808582700,
     "user": {
      "displayName": "Jonas Klesen",
      "userId": "16201315161566161330"
     },
     "user_tz": -120
    },
    "id": "b2bdc09f"
   },
   "outputs": [],
   "source": [
    "team_id = \"18\"  # put your team id here"
   ]
  },
  {
   "cell_type": "markdown",
   "id": "wJs2YvIMvO9Q",
   "metadata": {
    "id": "wJs2YvIMvO9Q"
   },
   "source": [
    "# [Colab only] Connect to your Google Drive"
   ]
  },
  {
   "cell_type": "code",
   "execution_count": 2,
   "id": "SHVae3MHvI9g",
   "metadata": {
    "colab": {
     "base_uri": "https://localhost:8080/"
    },
    "executionInfo": {
     "elapsed": 1557,
     "status": "ok",
     "timestamp": 1716808584619,
     "user": {
      "displayName": "Jonas Klesen",
      "userId": "16201315161566161330"
     },
     "user_tz": -120
    },
    "id": "SHVae3MHvI9g",
    "outputId": "c13669b0-1bb0-42ac-bdd5-dde5bba2485c"
   },
   "outputs": [],
   "source": [
    "# from google.colab import drive\n",
    "# drive.mount('/content/drive')"
   ]
  },
  {
   "cell_type": "code",
   "execution_count": 3,
   "id": "UeTBTeKZvr0z",
   "metadata": {
    "colab": {
     "base_uri": "https://localhost:8080/"
    },
    "executionInfo": {
     "elapsed": 10,
     "status": "ok",
     "timestamp": 1716808584620,
     "user": {
      "displayName": "Jonas Klesen",
      "userId": "16201315161566161330"
     },
     "user_tz": -120
    },
    "id": "UeTBTeKZvr0z",
    "outputId": "56d405ce-0539-4c9f-e15f-1022eb3c5c7e"
   },
   "outputs": [],
   "source": [
    "# %cd \"/content/drive/MyDrive/path/to/your/project\""
   ]
  },
  {
   "cell_type": "markdown",
   "id": "19af9755",
   "metadata": {
    "id": "19af9755"
   },
   "source": [
    "# Imports"
   ]
  },
  {
   "cell_type": "markdown",
   "id": "UJskkHs1wW6r",
   "metadata": {
    "id": "UJskkHs1wW6r"
   },
   "source": [
    "[Colab only] Note: if you need to install any packages, run a code cell with content `!pip install packagename`"
   ]
  },
  {
   "cell_type": "code",
   "execution_count": 2,
   "id": "b0153603",
   "metadata": {
    "executionInfo": {
     "elapsed": 5,
     "status": "ok",
     "timestamp": 1716808584620,
     "user": {
      "displayName": "Jonas Klesen",
      "userId": "16201315161566161330"
     },
     "user_tz": -120
    },
    "id": "b0153603"
   },
   "outputs": [],
   "source": [
    "import os\n",
    "from itertools import product\n",
    "from typing import Any\n",
    "\n",
    "import joblib\n",
    "import matplotlib.pyplot as plt\n",
    "import numpy as np\n",
    "import pandas as pd\n",
    "import seaborn as sns\n",
    "import sklearn.metrics as skm\n",
    "from prettytable import PrettyTable\n",
    "from sklearn.compose import ColumnTransformer, TransformedTargetRegressor\n",
    "from sklearn.decomposition import PCA\n",
    "from sklearn.feature_selection import SelectKBest, chi2, f_regression\n",
    "from sklearn.linear_model import (\n",
    "    LassoLars,\n",
    "    LinearRegression,\n",
    "    LogisticRegression,\n",
    "    PassiveAggressiveRegressor,\n",
    "    Ridge,\n",
    "    RidgeCV,\n",
    ")\n",
    "from sklearn.metrics import accuracy_score, mean_absolute_error, r2_score, root_mean_squared_error\n",
    "from sklearn.model_selection import GridSearchCV, train_test_split\n",
    "from sklearn.pipeline import Pipeline\n",
    "from sklearn.preprocessing import (\n",
    "    LabelEncoder,\n",
    "    OneHotEncoder,\n",
    "    PolynomialFeatures,\n",
    "    PowerTransformer,\n",
    "    QuantileTransformer,\n",
    "    StandardScaler,\n",
    ")\n",
    "from sklearn.svm import SVR, LinearSVR\n",
    "from skopt.space import Categorical, Integer, Real"
   ]
  },
  {
   "cell_type": "markdown",
   "id": "1837bdd9",
   "metadata": {},
   "source": [
    "# Utility functions"
   ]
  },
  {
   "cell_type": "code",
   "execution_count": 3,
   "id": "80e45379",
   "metadata": {},
   "outputs": [],
   "source": [
    "def make_pretty_table(\n",
    "    data: list, field_names: list[str] | None = None, title: str = \"\"\n",
    ") -> PrettyTable:\n",
    "    \"\"\"Create a `PrettyTable` from the `data` list with the specified `field_names` and `title`.\"\"\"\n",
    "    table = PrettyTable()\n",
    "    if title:\n",
    "        table.title = title\n",
    "    if field_names:\n",
    "        table.field_names = field_names\n",
    "    else:\n",
    "        table.field_names = [f\"Column {i+1}\" for i in range(len(data[0]))]\n",
    "    for row in data:\n",
    "        table.add_row(row)\n",
    "    return table\n",
    "\n",
    "\n",
    "def tab_prettytable(table: PrettyTable, tabs: int) -> str:\n",
    "    \"\"\"Return the `table` as a string with `'\\\\t' * tabs` at the beginning of each line.\"\"\"\n",
    "    tabs = 0 if tabs < 0 else tabs\n",
    "    tab_str = \"\\t\" * tabs\n",
    "    table_str = str(table)\n",
    "    tabbed = tab_str + table_str.replace(\"\\n\", \"\\n\" + tab_str)\n",
    "    return tabbed\n",
    "\n",
    "\n",
    "def compute_scores(y_true: np.ndarray, y_pred: np.ndarray) -> tuple:\n",
    "    \"\"\"Returns RMSE, MAE, Median SE, Median AE, and R^2 scores for the given true and predicted\n",
    "    values, in that order.\"\"\"\n",
    "    rmse = root_mean_squared_error(y_true, y_pred)\n",
    "    mae = mean_absolute_error(y_true, y_pred)\n",
    "\n",
    "    # These might also be helpful to look at. Think about why!\n",
    "    # Median Squared Error\n",
    "    medse = np.sqrt(np.median((y_true - y_pred) ** 2))\n",
    "\n",
    "    # Median Absolute Error\n",
    "    medae = np.median(abs(y_true - y_pred))\n",
    "\n",
    "    # R^2 score\n",
    "    r2 = r2_score(y_true, y_pred)\n",
    "\n",
    "    return rmse, mae, medse, medae, r2\n",
    "\n",
    "\n",
    "def round_values(*values: Any, decimals: int = 3) -> tuple:\n",
    "    \"\"\"Return a tuple of the `values` rounded to `decimals` number of decimal places.\"\"\"\n",
    "    return tuple(round(v, decimals) for v in values)"
   ]
  },
  {
   "cell_type": "markdown",
   "id": "2f5eaed7",
   "metadata": {
    "id": "2f5eaed7"
   },
   "source": [
    "# Load Data\n",
    "\n",
    "In a first step, we load the provided training data from the csv file"
   ]
  },
  {
   "cell_type": "code",
   "execution_count": 4,
   "id": "2fc6b0bb",
   "metadata": {
    "colab": {
     "base_uri": "https://localhost:8080/"
    },
    "executionInfo": {
     "elapsed": 1300,
     "status": "ok",
     "timestamp": 1716808585916,
     "user": {
      "displayName": "Jonas Klesen",
      "userId": "16201315161566161330"
     },
     "user_tz": -120
    },
    "id": "2fc6b0bb",
    "outputId": "98874125-e5d1-463c-9ac9-d8b04976b814"
   },
   "outputs": [
    {
     "name": "stdout",
     "output_type": "stream",
     "text": [
      "The loaded dataset has 15000 rows and 110 columns\n"
     ]
    }
   ],
   "source": [
    "df_train = pd.read_csv(\"data/train.csv\")\n",
    "print(\"The loaded dataset has {} rows and {} columns\".format(df_train.shape[0], df_train.shape[1]))"
   ]
  },
  {
   "cell_type": "code",
   "execution_count": 5,
   "id": "c321d106",
   "metadata": {
    "colab": {
     "base_uri": "https://localhost:8080/",
     "height": 307
    },
    "executionInfo": {
     "elapsed": 566,
     "status": "ok",
     "timestamp": 1716808586474,
     "user": {
      "displayName": "Jonas Klesen",
      "userId": "16201315161566161330"
     },
     "user_tz": -120
    },
    "id": "c321d106",
    "outputId": "6628d002-66eb-420d-e59f-0969d59fe13f"
   },
   "outputs": [
    {
     "data": {
      "text/html": [
       "<div>\n",
       "<style scoped>\n",
       "    .dataframe tbody tr th:only-of-type {\n",
       "        vertical-align: middle;\n",
       "    }\n",
       "\n",
       "    .dataframe tbody tr th {\n",
       "        vertical-align: top;\n",
       "    }\n",
       "\n",
       "    .dataframe thead th {\n",
       "        text-align: right;\n",
       "    }\n",
       "</style>\n",
       "<table border=\"1\" class=\"dataframe\">\n",
       "  <thead>\n",
       "    <tr style=\"text-align: right;\">\n",
       "      <th></th>\n",
       "      <th>RACE</th>\n",
       "      <th>SEX</th>\n",
       "      <th>PANEL</th>\n",
       "      <th>WEIGHT</th>\n",
       "      <th>STUDENT_STAT</th>\n",
       "      <th>MIL_ACTIV_DUTY</th>\n",
       "      <th>HON_DISCHARGE</th>\n",
       "      <th>HEALTH_STAT</th>\n",
       "      <th>MENTAL_HLTH</th>\n",
       "      <th>CHRON_BRONCH</th>\n",
       "      <th>...</th>\n",
       "      <th>NUM_PRESCR_MEDS</th>\n",
       "      <th>DIFFIC_HEAR</th>\n",
       "      <th>DIFFIC_SEE</th>\n",
       "      <th>SMOK</th>\n",
       "      <th>OVR_FEEL_14</th>\n",
       "      <th>MENTAL_HLTH_SCR</th>\n",
       "      <th>PHY_HLTH_SCR</th>\n",
       "      <th>OVR_FEEL_30</th>\n",
       "      <th>TOT_MED_EXP</th>\n",
       "      <th>UTILIZATION</th>\n",
       "    </tr>\n",
       "  </thead>\n",
       "  <tbody>\n",
       "    <tr>\n",
       "      <th>0</th>\n",
       "      <td>Non-White</td>\n",
       "      <td>1</td>\n",
       "      <td>19</td>\n",
       "      <td>7205.036720</td>\n",
       "      <td>-1</td>\n",
       "      <td>2</td>\n",
       "      <td>2</td>\n",
       "      <td>2</td>\n",
       "      <td>2</td>\n",
       "      <td>2</td>\n",
       "      <td>...</td>\n",
       "      <td>0</td>\n",
       "      <td>2</td>\n",
       "      <td>2</td>\n",
       "      <td>2</td>\n",
       "      <td>1</td>\n",
       "      <td>43.82</td>\n",
       "      <td>61.41</td>\n",
       "      <td>3</td>\n",
       "      <td>0</td>\n",
       "      <td>LOW</td>\n",
       "    </tr>\n",
       "    <tr>\n",
       "      <th>1</th>\n",
       "      <td>White</td>\n",
       "      <td>1</td>\n",
       "      <td>20</td>\n",
       "      <td>5501.113581</td>\n",
       "      <td>-1</td>\n",
       "      <td>4</td>\n",
       "      <td>2</td>\n",
       "      <td>1</td>\n",
       "      <td>1</td>\n",
       "      <td>2</td>\n",
       "      <td>...</td>\n",
       "      <td>12</td>\n",
       "      <td>2</td>\n",
       "      <td>2</td>\n",
       "      <td>2</td>\n",
       "      <td>0</td>\n",
       "      <td>60.12</td>\n",
       "      <td>54.80</td>\n",
       "      <td>0</td>\n",
       "      <td>240</td>\n",
       "      <td>LOW</td>\n",
       "    </tr>\n",
       "    <tr>\n",
       "      <th>2</th>\n",
       "      <td>White</td>\n",
       "      <td>1</td>\n",
       "      <td>20</td>\n",
       "      <td>16797.708379</td>\n",
       "      <td>-1</td>\n",
       "      <td>4</td>\n",
       "      <td>1</td>\n",
       "      <td>3</td>\n",
       "      <td>1</td>\n",
       "      <td>2</td>\n",
       "      <td>...</td>\n",
       "      <td>20</td>\n",
       "      <td>2</td>\n",
       "      <td>2</td>\n",
       "      <td>2</td>\n",
       "      <td>0</td>\n",
       "      <td>60.35</td>\n",
       "      <td>30.08</td>\n",
       "      <td>0</td>\n",
       "      <td>791</td>\n",
       "      <td>LOW</td>\n",
       "    </tr>\n",
       "    <tr>\n",
       "      <th>3</th>\n",
       "      <td>Non-White</td>\n",
       "      <td>2</td>\n",
       "      <td>19</td>\n",
       "      <td>3605.218411</td>\n",
       "      <td>-1</td>\n",
       "      <td>2</td>\n",
       "      <td>2</td>\n",
       "      <td>3</td>\n",
       "      <td>3</td>\n",
       "      <td>2</td>\n",
       "      <td>...</td>\n",
       "      <td>20</td>\n",
       "      <td>2</td>\n",
       "      <td>2</td>\n",
       "      <td>2</td>\n",
       "      <td>0</td>\n",
       "      <td>58.32</td>\n",
       "      <td>50.22</td>\n",
       "      <td>0</td>\n",
       "      <td>272</td>\n",
       "      <td>LOW</td>\n",
       "    </tr>\n",
       "    <tr>\n",
       "      <th>4</th>\n",
       "      <td>Non-White</td>\n",
       "      <td>1</td>\n",
       "      <td>19</td>\n",
       "      <td>11223.127404</td>\n",
       "      <td>1</td>\n",
       "      <td>2</td>\n",
       "      <td>2</td>\n",
       "      <td>1</td>\n",
       "      <td>2</td>\n",
       "      <td>2</td>\n",
       "      <td>...</td>\n",
       "      <td>3</td>\n",
       "      <td>2</td>\n",
       "      <td>2</td>\n",
       "      <td>2</td>\n",
       "      <td>0</td>\n",
       "      <td>62.39</td>\n",
       "      <td>56.71</td>\n",
       "      <td>0</td>\n",
       "      <td>1264</td>\n",
       "      <td>LOW</td>\n",
       "    </tr>\n",
       "  </tbody>\n",
       "</table>\n",
       "<p>5 rows × 110 columns</p>\n",
       "</div>"
      ],
      "text/plain": [
       "        RACE  SEX  PANEL        WEIGHT  STUDENT_STAT  MIL_ACTIV_DUTY  \\\n",
       "0  Non-White    1     19   7205.036720            -1               2   \n",
       "1      White    1     20   5501.113581            -1               4   \n",
       "2      White    1     20  16797.708379            -1               4   \n",
       "3  Non-White    2     19   3605.218411            -1               2   \n",
       "4  Non-White    1     19  11223.127404             1               2   \n",
       "\n",
       "   HON_DISCHARGE  HEALTH_STAT  MENTAL_HLTH  CHRON_BRONCH  ...  \\\n",
       "0              2            2            2             2  ...   \n",
       "1              2            1            1             2  ...   \n",
       "2              1            3            1             2  ...   \n",
       "3              2            3            3             2  ...   \n",
       "4              2            1            2             2  ...   \n",
       "\n",
       "   NUM_PRESCR_MEDS  DIFFIC_HEAR  DIFFIC_SEE  SMOK  OVR_FEEL_14  \\\n",
       "0                0            2           2     2            1   \n",
       "1               12            2           2     2            0   \n",
       "2               20            2           2     2            0   \n",
       "3               20            2           2     2            0   \n",
       "4                3            2           2     2            0   \n",
       "\n",
       "   MENTAL_HLTH_SCR  PHY_HLTH_SCR  OVR_FEEL_30  TOT_MED_EXP  UTILIZATION  \n",
       "0            43.82         61.41            3            0          LOW  \n",
       "1            60.12         54.80            0          240          LOW  \n",
       "2            60.35         30.08            0          791          LOW  \n",
       "3            58.32         50.22            0          272          LOW  \n",
       "4            62.39         56.71            0         1264          LOW  \n",
       "\n",
       "[5 rows x 110 columns]"
      ]
     },
     "execution_count": 5,
     "metadata": {},
     "output_type": "execute_result"
    }
   ],
   "source": [
    "df_train.head()"
   ]
  },
  {
   "cell_type": "markdown",
   "id": "9c9633f0",
   "metadata": {
    "id": "9c9633f0"
   },
   "source": [
    "# Data exploration"
   ]
  },
  {
   "cell_type": "code",
   "execution_count": 6,
   "id": "a109e66a",
   "metadata": {
    "colab": {
     "base_uri": "https://localhost:8080/",
     "height": 452
    },
    "executionInfo": {
     "elapsed": 12,
     "status": "ok",
     "timestamp": 1716808586474,
     "user": {
      "displayName": "Jonas Klesen",
      "userId": "16201315161566161330"
     },
     "user_tz": -120
    },
    "id": "a109e66a",
    "outputId": "4d758a61-6b44-48bf-ce52-3830970e0842"
   },
   "outputs": [
    {
     "data": {
      "image/png": "[encoded data removed]",
      "text/plain": [
       "<Figure size 640x480 with 1 Axes>"
      ]
     },
     "metadata": {},
     "output_type": "display_data"
    }
   ],
   "source": [
    "# TODO: explore the data thoroughly, i.e. look for missing values, plot feature histograms, etc\n",
    "\n",
    "# This is a (rather bad) plot to get you started:\n",
    "plt.hist(df_train[\"TOT_MED_EXP\"])\n",
    "plt.title(\"Total medical expenses (train)\")\n",
    "plt.show()"
   ]
  },
  {
   "cell_type": "code",
   "execution_count": 7,
   "id": "73924d31",
   "metadata": {},
   "outputs": [
    {
     "data": {
      "text/plain": [
       "<bound method NDFrame.describe of             RACE  SEX  PANEL        WEIGHT  STUDENT_STAT  MIL_ACTIV_DUTY  \\\n",
       "0      Non-White    1     19   7205.036720            -1               2   \n",
       "1          White    1     20   5501.113581            -1               4   \n",
       "2          White    1     20  16797.708379            -1               4   \n",
       "3      Non-White    2     19   3605.218411            -1               2   \n",
       "4      Non-White    1     19  11223.127404             1               2   \n",
       "...          ...  ...    ...           ...           ...             ...   \n",
       "14995  Non-White    1     19  19429.034502            -1               2   \n",
       "14996  Non-White    2     19   2808.751509            -1               2   \n",
       "14997  Non-White    2     20  12237.098636            -1               2   \n",
       "14998  Non-White    2     20   5370.704372            -1               2   \n",
       "14999  Non-White    1     20   6685.613193            -1               2   \n",
       "\n",
       "       HON_DISCHARGE  HEALTH_STAT  MENTAL_HLTH  CHRON_BRONCH  ...  \\\n",
       "0                  2            2            2             2  ...   \n",
       "1                  2            1            1             2  ...   \n",
       "2                  1            3            1             2  ...   \n",
       "3                  2            3            3             2  ...   \n",
       "4                  2            1            2             2  ...   \n",
       "...              ...          ...          ...           ...  ...   \n",
       "14995              2            2            2             2  ...   \n",
       "14996              2            4            3             2  ...   \n",
       "14997              2            2            3             2  ...   \n",
       "14998              2            3            3             2  ...   \n",
       "14999              2            2            1             2  ...   \n",
       "\n",
       "       NUM_PRESCR_MEDS  DIFFIC_HEAR  DIFFIC_SEE  SMOK  OVR_FEEL_14  \\\n",
       "0                    0            2           2     2            1   \n",
       "1                   12            2           2     2            0   \n",
       "2                   20            2           2     2            0   \n",
       "3                   20            2           2     2            0   \n",
       "4                    3            2           2     2            0   \n",
       "...                ...          ...         ...   ...          ...   \n",
       "14995                0            2           2     2            0   \n",
       "14996                1            2           2     2           -9   \n",
       "14997                0            2           2     2            3   \n",
       "14998                0            2           2    -1           -1   \n",
       "14999                0            2           2     2            0   \n",
       "\n",
       "       MENTAL_HLTH_SCR  PHY_HLTH_SCR  OVR_FEEL_30  TOT_MED_EXP  UTILIZATION  \n",
       "0                43.82         61.41            3            0          LOW  \n",
       "1                60.12         54.80            0          240          LOW  \n",
       "2                60.35         30.08            0          791          LOW  \n",
       "3                58.32         50.22            0          272          LOW  \n",
       "4                62.39         56.71            0         1264          LOW  \n",
       "...                ...           ...          ...          ...          ...  \n",
       "14995            58.15         52.91            0            0          LOW  \n",
       "14996            60.29         52.11           -9            4          LOW  \n",
       "14997            22.14         67.11           10            0          LOW  \n",
       "14998            -1.00         -1.00           -1          600          LOW  \n",
       "14999            57.16         56.15            2            0          LOW  \n",
       "\n",
       "[15000 rows x 110 columns]>"
      ]
     },
     "execution_count": 7,
     "metadata": {},
     "output_type": "execute_result"
    }
   ],
   "source": [
    "df_train.describe"
   ]
  },
  {
   "cell_type": "code",
   "execution_count": 8,
   "id": "16fa1a6d",
   "metadata": {},
   "outputs": [
    {
     "name": "stdout",
     "output_type": "stream",
     "text": [
      "Total number of missing values: 0\n"
     ]
    }
   ],
   "source": [
    "# Handling missing values\n",
    "total_missing_values = df_train.isnull().sum().sum()\n",
    "print(f\"Total number of missing values: {total_missing_values}\")"
   ]
  },
  {
   "cell_type": "code",
   "execution_count": 9,
   "id": "3ff115da",
   "metadata": {},
   "outputs": [],
   "source": [
    "# Split into features and target for regression and classification\n",
    "X = df_train.drop(columns=[\"TOT_MED_EXP\", \"UTILIZATION\"])\n",
    "y_regression = df_train[\"TOT_MED_EXP\"]\n",
    "y_classification = df_train[\"UTILIZATION\"]"
   ]
  },
  {
   "cell_type": "code",
   "execution_count": 10,
   "id": "ef4ec8ee",
   "metadata": {},
   "outputs": [
    {
     "name": "stdout",
     "output_type": "stream",
     "text": [
      "Numerical:  ['SEX', 'PANEL', 'WEIGHT', 'STUDENT_STAT', 'MIL_ACTIV_DUTY', 'HON_DISCHARGE', 'HEALTH_STAT', 'MENTAL_HLTH', 'CHRON_BRONCH', 'JNT_PAIN', 'PREGNT', 'WALK_LIM', 'ACTIV_LIM', 'SOCIAL_LIM', 'COGNTV_LIM', 'EMPLYMT', 'REGION', 'MARITAL_STAT', 'AGE', 'POVRTY_CAT', 'INSUR_COV', 'TOT_INCOME', 'BM_IDX', 'MULT_HIGHBP', 'HOUSEWRK_LIM', 'SCHOOL_LIM', 'ADV_NO_FAT_FOOD', 'ADV_EXERCISE_MORE', 'ADV_DNTL_CKP', 'FREQ_DNTL_CKP', 'RSN_NO_DNTL_CKP', 'RSN_NO_MED_CKP', 'EMPLYR_INS', 'DOC_CK_BP', 'TAKE_RISK', 'NUM_DEP_OUT_REP_UNT', 'ADV_BOOST_SEAT', 'WHEN_ADV_BOOST_SEAT', 'FEEL_DEPRS', 'ADV_NO_SMKG', 'AGE_DIAG_ADHD', 'CHILD_SUPP', 'PROB_WKIDS', 'PROB_WBHV', 'WEAR_SEATBLT', 'PUB_ASST', 'EDU_DEG', 'SPOUSE_PRSNT', 'TAX_FORM_TYP', 'FOOD_STMP_MNTHS', 'FOOD_STMP_VAL', 'WHEN_ADV_LAP_BLT', 'EDU_YRS', 'WHEN_LST_ASTHMA', 'FAM_INCOME', 'DELAY_PRESCR_MED', 'ADV_LAP_BLT', 'ADV_EAT_HLTHY', 'DOC_TIM_ALN', 'POVRTY_LEV', 'APPT_REG_MEDCARE', 'LOST_ALL_TEETH', 'PROB_BILL_PAY', 'ASPRN_REG', 'OCCUP', 'DIFF_ERRND_ALN', 'DIAB_KIDNY', 'DIAB_INSLN', 'DIAB_MED', 'DISPSN_STAT', 'TIME_LAST_PSA', 'DAYS_CAREOTHR_NOWORK', 'WHEN_ADV_EXERCISE', 'UNION_STAT', 'DEAF', 'BLIND', 'LAST_FLU_VAC', 'NON_ENG_LANG', 'UNABL_PRES_MED', 'HEAR_AID', 'PENSN_PLAN', 'LAST_REG_CKP', 'NO_WORK_WHY', 'DAYS_ILL_NOWORK', 'DAYS_ILL_NOSCHL', 'HIGH_BP_DIAG', 'COR_HRT_DIAG', 'ANGINA_DIAG', 'HRT_ATT_DIAG', 'OTH_HRT_DIAG', 'STROKE_DIAG', 'EMPHYM_DIAG', 'HIGHCHOL_DIAG', 'CANCER_DIAG', 'DIAB_DIAG', 'ARTHR_DIAG', 'ARTHR_TYPE', 'ASTHM_DIAG', 'ADHD_DIAG', 'NUM_PRESCR_MEDS', 'DIFFIC_HEAR', 'DIFFIC_SEE', 'SMOK', 'OVR_FEEL_14', 'MENTAL_HLTH_SCR', 'PHY_HLTH_SCR', 'OVR_FEEL_30']\n",
      "Categorical:  ['RACE']\n"
     ]
    }
   ],
   "source": [
    "# here, identify numerical and categorical columns\n",
    "numerical_cols = X.select_dtypes(include=[np.number]).columns.tolist()\n",
    "categorical_cols = X.select_dtypes(include=[\"object\"]).columns.tolist()\n",
    "# categorical_cols.remove(\"RACE\")  # Exclude 'RACE' from categorical columns\n",
    "\n",
    "print(\"Numerical: \", numerical_cols)\n",
    "print(\"Categorical: \", categorical_cols)"
   ]
  },
  {
   "cell_type": "markdown",
   "id": "9c2323d4",
   "metadata": {
    "id": "9c2323d4"
   },
   "source": [
    "# Linear regression"
   ]
  },
  {
   "cell_type": "markdown",
   "id": "GjxnefI-aSOZ",
   "metadata": {
    "id": "GjxnefI-aSOZ"
   },
   "source": [
    "In this part, we will solve an linear regression task to predict our target `TOT_MED_EXP`, i.e. total medical expences, using the other features.\n"
   ]
  },
  {
   "cell_type": "markdown",
   "id": "2_CBqwiigmaF",
   "metadata": {
    "id": "2_CBqwiigmaF"
   },
   "source": [
    "In its simplest form, predictions of a linear regression model can be summarized as\n",
    "\n",
    "$$\n",
    "\\hat{y} = \\mathbf{w}^T \\mathbf{x} = f(\\mathbf{x},\\mathbf{w})\n",
    "$$\n",
    "\n",
    "which can be optimized using the cost function\n",
    "\n",
    "$$\n",
    "\\mathbf{w}^{*}=\\underset{\\mathbf{w}}{\\arg \\min } \\frac{1}{n} \\sum_{i=1}^{n}\\left(y_{i}-f\\left(\\mathbf{x}_{i}, \\mathbf{w}\\right)\\right)^{2}\n",
    "$$"
   ]
  },
  {
   "cell_type": "markdown",
   "id": "f878db27",
   "metadata": {
    "id": "f878db27"
   },
   "source": [
    "### Process the data"
   ]
  },
  {
   "cell_type": "code",
   "execution_count": 11,
   "id": "JzZwQFApeUBd",
   "metadata": {
    "colab": {
     "base_uri": "https://localhost:8080/"
    },
    "executionInfo": {
     "elapsed": 10,
     "status": "ok",
     "timestamp": 1716808586474,
     "user": {
      "displayName": "Jonas Klesen",
      "userId": "16201315161566161330"
     },
     "user_tz": -120
    },
    "id": "JzZwQFApeUBd",
    "outputId": "63b1cb7d-ff8e-4842-fe8e-11de1153838b"
   },
   "outputs": [
    {
     "name": "stdout",
     "output_type": "stream",
     "text": [
      "The dataset now has 15000 rows and 108 columns\n"
     ]
    }
   ],
   "source": [
    "# Filter out non-positive values from both X and y_regression\n",
    "# TODO: We gotta deal with the 0 values in the target variable\n",
    "# mask = y_regression > 0\n",
    "\n",
    "# X = X[mask]\n",
    "# y_regression = y_regression[mask]\n",
    "\n",
    "print(\"The dataset now has {} rows and {} columns\".format(X.shape[0], X.shape[1]))\n",
    "\n",
    "# Split X and y for training and validation purposes\n",
    "X_train_reg, X_test_reg, y_train_reg, y_test_reg = train_test_split(\n",
    "    X, y_regression, test_size=0.2, random_state=42\n",
    ")"
   ]
  },
  {
   "cell_type": "markdown",
   "id": "464b2bd9",
   "metadata": {
    "id": "464b2bd9"
   },
   "source": [
    "### Train a linear regression model"
   ]
  },
  {
   "cell_type": "code",
   "execution_count": 12,
   "id": "e110780c",
   "metadata": {},
   "outputs": [],
   "source": [
    "def available_param_grids_for(model_name: str, grid_search_type: str) -> dict:\n",
    "    \"\"\"Get the parameter grid for the specified model and grid search type.\n",
    "\n",
    "    Parameters\n",
    "    ----------\n",
    "    model_name : Any\n",
    "        The name of the model to get the parameter grid for.\n",
    "    grid_search_type : str\n",
    "        The type of grid search to get the parameter grid for.\n",
    "\n",
    "    Returns\n",
    "    -------\n",
    "    dict\n",
    "        The parameter grid for the specified model and grid search type.\n",
    "    \"\"\"\n",
    "    param_grids = {\n",
    "        \"LinearRegression\": {\n",
    "            \"grid\": {\"fit_intercept\": [True, False]},\n",
    "            \"bayes\": {\"fit_intercept\": Categorical([True, False])},\n",
    "        },\n",
    "        \"Ridge\": {\n",
    "            \"grid\": {\n",
    "                \"alpha\": [0.0005, 0.1, 1.0, 10.0],\n",
    "                \"fit_intercept\": [True, False],\n",
    "            },\n",
    "            \"bayes\": {\n",
    "                \"alpha\": Real(0.0001, 100, prior=\"log-uniform\"),\n",
    "                \"fit_intercept\": Categorical([True, False]),\n",
    "            },\n",
    "        },\n",
    "        \"Lasso\": {\n",
    "            \"grid\": {\n",
    "                \"alpha\": [0.0005, 0.1, 1.0, 10.0],\n",
    "                \"fit_intercept\": [True, False],\n",
    "            },\n",
    "            \"bayes\": {\n",
    "                \"alpha\": Real(0.0001, 100, prior=\"log-uniform\"),\n",
    "                \"fit_intercept\": Categorical([True, False]),\n",
    "            },\n",
    "        },\n",
    "        \"LassoLars\": {\n",
    "            \"grid\": {\n",
    "                \"alpha\": [0.0005, 0.1, 1.0, 10.0],\n",
    "                \"fit_intercept\": [True, False],\n",
    "                \"positive\": [True, False],\n",
    "                \"jitter\": [0.01, 0.1, 0.5],\n",
    "            },\n",
    "            \"bayes\": {\n",
    "                \"alpha\": Real(0.0001, 100, prior=\"log-uniform\"),\n",
    "                \"fit_intercept\": Categorical([True, False]),\n",
    "            },\n",
    "        },\n",
    "        \"KernelRidge\": {\n",
    "            \"grid\": {\n",
    "                \"alpha\": [0.0005, 0.1, 1.0, 10.0],\n",
    "                \"kernel\": [\"linear\", \"poly\", \"rbf\"],\n",
    "                \"degree\": [2, 3],\n",
    "                \"gamma\": [\"scale\", \"auto\"],\n",
    "            },\n",
    "            \"bayes\": {\n",
    "                \"alpha\": Real(0.0001, 100, prior=\"log-uniform\"),\n",
    "                \"kernel\": Categorical([\"linear\", \"poly\", \"rbf\"]),\n",
    "                \"degree\": Integer(2, 3),\n",
    "                \"gamma\": Categorical([\"scale\", \"auto\"]),\n",
    "            },\n",
    "        },\n",
    "        \"TweedieRegressor\": {\n",
    "            \"grid\": {\n",
    "                \"power\": np.linspace(1.0, 2.0, 10),\n",
    "                \"alpha\": np.logspace(-3, 1, 10),\n",
    "                \"link\": [\"log\", \"identity\"],\n",
    "                \"max_iter\": [5000],\n",
    "            },\n",
    "            \"bayes\": {\n",
    "                \"power\": Real(1.0, 2.0),\n",
    "                \"alpha\": Real(1e-3, 10, prior=\"log-uniform\"),\n",
    "                \"link\": Categorical([\"log\", \"identity\"]),\n",
    "                \"max_iter\": Categorical([5000]),\n",
    "            },\n",
    "        },\n",
    "        \"LGBMRegressor\": {\n",
    "            \"grid\": {\n",
    "                \"num_leaves\": [31, 127],\n",
    "                \"learning_rate\": [0.01, 0.1],\n",
    "                \"n_estimators\": [20, 40],\n",
    "            },\n",
    "            \"bayes\": {\n",
    "                \"num_leaves\": Integer(31, 127),\n",
    "                \"learning_rate\": Real(0.01, 0.1, prior=\"log-uniform\"),\n",
    "                \"n_estimators\": Integer(20, 40),\n",
    "            },\n",
    "        },\n",
    "        \"GammaRegressor\": {\n",
    "            \"grid\": {\n",
    "                \"alpha\": np.linspace(0.000001, 1, 10),\n",
    "                \"fit_intercept\": [True, False],\n",
    "                \"solver\": [\"lbfgs\", \"newton-cholesky\"],\n",
    "                \"max_iter\": [1000, 5000],\n",
    "            },\n",
    "            \"bayes\": {\n",
    "                \"alpha\": Real(0.000001, 1, prior=\"log-uniform\"),\n",
    "                \"fit_intercept\": Categorical([True, False]),\n",
    "                \"solver\": Categorical([\"lbfgs\", \"newton-cholesky\"]),\n",
    "                \"max_iter\": Categorical([1000, 5000]),\n",
    "            },\n",
    "        },\n",
    "        \"PoissonRegressor\": {\n",
    "            \"grid\": {\n",
    "                \"alpha\": np.logspace(-3, 1, 10),\n",
    "                \"fit_intercept\": [True, False],\n",
    "            },\n",
    "            \"bayes\": {\n",
    "                \"alpha\": Real(1e-3, 10, prior=\"log-uniform\"),\n",
    "                \"fit_intercept\": Categorical([True, False]),\n",
    "            },\n",
    "        },\n",
    "        \"PassiveAggressiveRegressor\": {\n",
    "            \"grid\": {\n",
    "                \"C\": [0.1, 1, 10, 100, 1000, 100000],\n",
    "                \"fit_intercept\": [True, False],\n",
    "                \"max_iter\": [1000, 5000],\n",
    "                \"loss\": [\"epsilon_insensitive\", \"squared_epsilon_insensitive\"],\n",
    "            },\n",
    "            \"bayes\": {\n",
    "                \"C\": Real(0.1, 100000, prior=\"log-uniform\"),\n",
    "                \"fit_intercept\": Categorical([True, False]),\n",
    "                \"max_iter\": Categorical([1000, 5000]),\n",
    "                \"loss\": Categorical([\"epsilon_insensitive\", \"squared_epsilon_insensitive\"]),\n",
    "            },\n",
    "        },\n",
    "        \"GradientBoostingRegressor\": {\n",
    "            \"grid\": {\n",
    "                \"n_estimators\": [100, 200, 300],\n",
    "                \"learning_rate\": [0.01, 0.1],\n",
    "                \"max_depth\": [3, 5, 7],\n",
    "            },\n",
    "            \"bayes\": {\n",
    "                \"n_estimators\": Integer(100, 300),\n",
    "                \"learning_rate\": Real(0.01, 0.1, prior=\"log-uniform\"),\n",
    "                \"max_depth\": Integer(3, 7),\n",
    "            },\n",
    "        },\n",
    "        \"SVR\": {\n",
    "            \"grid\": {\n",
    "                \"C\": [0.01, 0.1, 0.5, 1, 10, 100],\n",
    "                \"kernel\": [\"linear\", \"rbf\", \"poly\"],\n",
    "                \"gamma\": [0.01, 0.05, 0.1, 1, \"scale\", \"auto\"],\n",
    "            },\n",
    "            \"bayes\": {\n",
    "                \"C\": Real(0.1, 10, prior=\"log-uniform\"),\n",
    "                \"gamma\": Real(0.01, 0.1, prior=\"log-uniform\"),\n",
    "                \"kernel\": Categorical([\"linear\", \"rbf\", \"poly\"]),\n",
    "                \"degree\": Integer(2, 3),\n",
    "            },\n",
    "        },\n",
    "        \"LinearSVR\": {\n",
    "            \"grid\": {\n",
    "                \"C\": [0.1, 0.5, 1, 5, 10],\n",
    "                \"intercept_scaling\": [1, 10],\n",
    "                \"epsilon\": [0.0, 0.1, 0.2, 0.5],\n",
    "                \"tol\": [1e-4, 1e-3, 1e-2],\n",
    "                \"C\": [0.1, 1.0, 10.0],\n",
    "                \"loss\": [\"epsilon_insensitive\", \"squared_epsilon_insensitive\"],\n",
    "                \"fit_intercept\": [True, False],\n",
    "                \"dual\": [True, False],\n",
    "                \"max_iter\": [1000, 2000, 5000],\n",
    "            },\n",
    "            \"bayes\": {\n",
    "                \"C\": Real(0.1, 10, prior=\"log-uniform\"),\n",
    "                \"intercept_scaling\": Integer(1, 10),\n",
    "                \"epsilon\": Real(0.0, 1.0, prior=\"uniform\"),\n",
    "                \"tol\": Real(1e-4, 1e-1, prior=\"log-uniform\"),\n",
    "                \"loss\": Categorical([\"epsilon_insensitive\", \"squared_epsilon_insensitive\"]),\n",
    "                \"fit_intercept\": Categorical([True, False]),\n",
    "                \"dual\": Categorical([True, False]),\n",
    "                \"max_iter\": Integer(1000, 5000),\n",
    "            },\n",
    "        },\n",
    "        \"LogisticRegression\": {\n",
    "            \"grid\": {\n",
    "                \"C\": [0.1, 1, 10, 100],\n",
    "                \"penalty\": [\"l1\", \"l2\"],\n",
    "                \"fit_intercept\": [True, False],\n",
    "            },\n",
    "            \"bayes\": {\n",
    "                \"C\": Real(0.1, 100, prior=\"log-uniform\"),\n",
    "                \"penalty\": Categorical([\"l1\", \"l2\"]),\n",
    "                \"fit_intercept\": Categorical([True, False]),\n",
    "            },\n",
    "        },\n",
    "        \"LGBMClassifier\": {\n",
    "            \"grid\": {\n",
    "                \"num_leaves\": [31, 127],\n",
    "                \"learning_rate\": [0.01, 0.1],\n",
    "                \"n_estimators\": [20, 40],\n",
    "            },\n",
    "            \"bayes\": {\n",
    "                \"num_leaves\": Integer(31, 127),\n",
    "                \"learning_rate\": Real(0.01, 0.1, prior=\"log-uniform\"),\n",
    "                \"n_estimators\": Integer(20, 40),\n",
    "            },\n",
    "        },\n",
    "    }\n",
    "    if model_name not in param_grids:\n",
    "        raise ValueError(f\"Model {model_name} not found in param_grids.py\")\n",
    "    if grid_search_type not in param_grids[model_name]:\n",
    "        raise ValueError(f\"Grid search type {grid_search_type} not found for model {model_name}\")\n",
    "\n",
    "    return param_grids.get(model_name, {}).get(grid_search_type, None)\n",
    "\n",
    "\n",
    "def choose_param_grid(model: Any, grid_search_type: str, add_str_to_keys=None) -> dict:\n",
    "    \"\"\"Choose a suitable hyperparameter grid to use with `GridSearchCV` or similar object based on\n",
    "    the model class and the `grid_search_type` to be performed.\n",
    "\n",
    "    Parameters\n",
    "    ----------\n",
    "    model : Any\n",
    "        The model object to get the hyperparameter grid for. It should be a valid scikit-learn or\n",
    "        cuML model object.\n",
    "    grid_search_type : str\n",
    "        The type of grid search to perform. It should be either 'grid' or 'bayes'.\n",
    "    add_str_to_keys : str, optional\n",
    "        A string to add to the beginning of each key in the parameter grid, by default None\n",
    "\n",
    "    Returns\n",
    "    -------\n",
    "    dict\n",
    "        The hyperparameter grid for the specified model and grid search type\n",
    "    \"\"\"\n",
    "    model_name = model.__class__.__name__\n",
    "    param_grid = available_param_grids_for(model_name, grid_search_type)\n",
    "\n",
    "    if add_str_to_keys is not None:\n",
    "        rewritten_param_grid = {}\n",
    "        if add_str_to_keys[-2:] == \"__\":\n",
    "            add_str_to_keys = add_str_to_keys[:-2]\n",
    "\n",
    "        if isinstance(param_grid, dict):\n",
    "            for param, value in param_grid.items():\n",
    "                rewritten_param_grid[f\"{add_str_to_keys}__{param}\"] = value\n",
    "        elif isinstance(param_grid, list):\n",
    "            rewritten_param_grid = []\n",
    "            for param_dict in param_grid:\n",
    "                new_param_dict = {f\"{add_str_to_keys}__{k}\": v for k, v in param_dict.items()}\n",
    "                rewritten_param_grid.append(new_param_dict)\n",
    "        param_grid = rewritten_param_grid\n",
    "\n",
    "    return param_grid"
   ]
  },
  {
   "cell_type": "code",
   "execution_count": 14,
   "id": "e8be7dc9",
   "metadata": {
    "executionInfo": {
     "elapsed": 405,
     "status": "ok",
     "timestamp": 1716808586873,
     "user": {
      "displayName": "Jonas Klesen",
      "userId": "16201315161566161330"
     },
     "user_tz": -120
    },
    "id": "e8be7dc9"
   },
   "outputs": [
    {
     "name": "stdout",
     "output_type": "stream",
     "text": [
      "Using the following hyperparameter grid for LassoLars():\n",
      "\tregression__alpha: [0.0005, 0.1, 1.0, 10.0]\n",
      "\tregression__fit_intercept: [True, False]\n",
      "\tregression__positive: [True, False]\n",
      "\tregression__jitter: [0.01, 0.1, 0.5]\n",
      "\tselect__k: [10]\n",
      "\n",
      "Fitting 5 folds for each of 48 candidates, totalling 240 fits\n",
      "Best hyperparameters found:  {'regression__alpha': 10.0, 'regression__fit_intercept': True, 'regression__jitter': 0.01, 'regression__positive': False, 'select__k': 10}\n"
     ]
    }
   ],
   "source": [
    "# Feature selection for linear regression\n",
    "pipeline = Pipeline(\n",
    "    steps=[\n",
    "        (\n",
    "            \"preprocessor\",\n",
    "            ColumnTransformer(\n",
    "                transformers=[\n",
    "                    (\"num\", StandardScaler(), numerical_cols),\n",
    "                    (\"cat\", OneHotEncoder(drop=\"first\"), categorical_cols),\n",
    "                ]\n",
    "            ),\n",
    "        ),\n",
    "        (\"poly\", PolynomialFeatures(degree=2)),\n",
    "        (\"select\", SelectKBest(score_func=f_regression)),\n",
    "        (\"regression\", LassoLars()),\n",
    "    ]\n",
    ")\n",
    "\n",
    "param_grid = choose_param_grid(\n",
    "    pipeline.named_steps[\"regression\"], \"grid\", add_str_to_keys=\"regression\"\n",
    ")\n",
    "\n",
    "# Add the number of features to select to the hyperparameter grid\n",
    "param_grid[\"select__k\"] = [10]  # Number of top features to select for regression\n",
    "\n",
    "print(f\"Using the following hyperparameter grid for {pipeline.named_steps['regression']}:\")\n",
    "for key, value in param_grid.items():\n",
    "    print(f\"\\t{key}: {value}\")\n",
    "\n",
    "print()\n",
    "\n",
    "grid_search = GridSearchCV(\n",
    "    pipeline,\n",
    "    param_grid=param_grid,\n",
    "    cv=5,\n",
    "    refit=\"neg_root_mean_squared_error\",\n",
    "    scoring={\n",
    "        \"neg_root_mean_squared_error\": \"neg_root_mean_squared_error\",\n",
    "        \"neg_median_absolute_error\": \"neg_median_absolute_error\",\n",
    "        \"neg_mean_absolute_error\": \"neg_mean_absolute_error\",\n",
    "    },\n",
    "    n_jobs=-2,\n",
    "    verbose=1,\n",
    ")\n",
    "\n",
    "grid_search.fit(X_train_reg, y_train_reg)\n",
    "\n",
    "best_estimator = grid_search.best_estimator_\n",
    "\n",
    "print(\"Best hyperparameters found: \", grid_search.best_params_)\n",
    "\n",
    "# This won't work if using PCA or Polynomial features before SelectKBest\n",
    "# print(\n",
    "#     \"Selected features for linear regression:\",\n",
    "#     X.columns[grid_search.best_estimator_.named_steps[\"select\"].get_support(indices=True)],\n",
    "# )"
   ]
  },
  {
   "cell_type": "markdown",
   "id": "61545555",
   "metadata": {},
   "source": [
    "### Train a model with a `y` transformed"
   ]
  },
  {
   "cell_type": "markdown",
   "id": "73666657",
   "metadata": {},
   "source": [
    "See: https://scikit-learn.org/dev/auto_examples/compose/plot_transformed_target.html"
   ]
  },
  {
   "cell_type": "code",
   "execution_count": 13,
   "id": "c6b140e8",
   "metadata": {},
   "outputs": [
    {
     "name": "stderr",
     "output_type": "stream",
     "text": [
      "C:\\Users\\meenu\\AppData\\Local\\Temp\\ipykernel_7912\\3581623490.py:24: UserWarning: The figure layout has changed to tight\n",
      "  f.tight_layout()\n"
     ]
    },
    {
     "data": {
      "image/png": "[encoded data removed]",
      "text/plain": [
       "<Figure size 1200x600 with 2 Axes>"
      ]
     },
     "metadata": {},
     "output_type": "display_data"
    }
   ],
   "source": [
    "from sklearn.preprocessing import quantile_transform\n",
    "\n",
    "y_trans = quantile_transform(\n",
    "    y_regression.to_frame(), n_quantiles=900, output_distribution=\"normal\", copy=True\n",
    ").squeeze()\n",
    "\n",
    "y_trans = (\n",
    "    PowerTransformer(method=\"yeo-johnson\", standardize=False)\n",
    "    .fit_transform(y_regression.to_frame())\n",
    "    .squeeze()\n",
    ")\n",
    "\n",
    "f, (ax0, ax1) = plt.subplots(1, 2, constrained_layout=True, figsize=(12, 6))\n",
    "\n",
    "ax0.hist(y_regression, bins=100, density=True)\n",
    "ax0.set_ylabel(\"Probability\")\n",
    "ax0.set_xlabel(\"Target\")\n",
    "ax0.set_title(\"Target distribution\")\n",
    "\n",
    "ax1.hist(y_trans, bins=100, density=True)\n",
    "ax1.set_ylabel(\"Probability\")\n",
    "ax1.set_xlabel(\"Target\")\n",
    "ax1.set_title(\"Transformed target distribution\")\n",
    "f.tight_layout()\n",
    "plt.show()"
   ]
  },
  {
   "cell_type": "code",
   "execution_count": 16,
   "id": "65b0e739",
   "metadata": {},
   "outputs": [
    {
     "name": "stdout",
     "output_type": "stream",
     "text": [
      "Using the following hyperparameter grid for TransformedTargetRegressor(regressor=LassoLars(),\n",
      "                           transformer=PowerTransformer()):\n",
      "\tregression__regressor__alpha: [0.0005, 0.1, 1.0, 10.0]\n",
      "\tregression__regressor__fit_intercept: [True, False]\n",
      "\tregression__regressor__positive: [True, False]\n",
      "\tregression__regressor__jitter: [0.01, 0.1, 0.5]\n",
      "\tselect__k: [40, 80]\n",
      "\n",
      "Fitting 5 folds for each of 96 candidates, totalling 480 fits\n",
      "Best hyperparameters found:  {'regression__regressor__alpha': 0.1, 'regression__regressor__fit_intercept': True, 'regression__regressor__jitter': 0.1, 'regression__regressor__positive': False, 'select__k': 80}\n"
     ]
    }
   ],
   "source": [
    "# Feature selection for linear regression\n",
    "pipeline_y_transformed = Pipeline(\n",
    "    steps=[\n",
    "        (\n",
    "            \"preprocessor\",\n",
    "            ColumnTransformer(\n",
    "                transformers=[\n",
    "                    (\"num\", StandardScaler(), numerical_cols),\n",
    "                    (\"cat\", OneHotEncoder(drop=\"first\"), categorical_cols),\n",
    "                ]\n",
    "            ),\n",
    "        ),\n",
    "        (\"poly\", PolynomialFeatures(degree=2)),\n",
    "        (\"select\", SelectKBest(score_func=f_regression)),\n",
    "        (\n",
    "            \"regression\",\n",
    "            # TransformedTargetRegressor(\n",
    "            #     regressor=LinearRegression(), func=np.log1p, inverse_func=np.expm1\n",
    "            # ),\n",
    "            # TransformedTargetRegressor(\n",
    "            #     regressor=LassoLars(),\n",
    "            #     transformer=QuantileTransformer(n_quantiles=900, output_distribution=\"normal\"),\n",
    "            # ),\n",
    "            TransformedTargetRegressor(\n",
    "                regressor=LassoLars(),\n",
    "                transformer=PowerTransformer(method=\"yeo-johnson\"),\n",
    "            ),\n",
    "        ),\n",
    "    ]\n",
    ")\n",
    "\n",
    "param_grid = choose_param_grid(\n",
    "    pipeline_y_transformed.named_steps[\"regression\"].regressor,\n",
    "    \"grid\",\n",
    "    add_str_to_keys=\"regression__regressor\",\n",
    ")\n",
    "\n",
    "# Add the number of features to select to the hyperparameter grid\n",
    "param_grid[\"select__k\"] = [40, 80]  # Number of top features to select for regression\n",
    "\n",
    "print(\n",
    "    f\"Using the following hyperparameter grid for {pipeline_y_transformed.named_steps['regression']}:\"\n",
    ")\n",
    "for key, value in param_grid.items():\n",
    "    print(f\"\\t{key}: {value}\")\n",
    "\n",
    "print()\n",
    "\n",
    "grid_search = GridSearchCV(\n",
    "    pipeline_y_transformed,\n",
    "    param_grid=param_grid,\n",
    "    cv=5,\n",
    "    refit=\"neg_root_mean_squared_error\",\n",
    "    scoring={\n",
    "        \"neg_root_mean_squared_error\": \"neg_root_mean_squared_error\",\n",
    "        \"neg_median_absolute_error\": \"neg_median_absolute_error\",\n",
    "        \"neg_mean_absolute_error\": \"neg_mean_absolute_error\",\n",
    "    },\n",
    "    n_jobs=-2,\n",
    "    verbose=1,\n",
    ")\n",
    "\n",
    "grid_search.fit(X_train_reg, y_train_reg)\n",
    "\n",
    "print(\"Best hyperparameters found: \", grid_search.best_params_)\n",
    "\n",
    "# Get the best estimator\n",
    "best_estimator_y_transformed = grid_search.best_estimator_"
   ]
  },
  {
   "cell_type": "markdown",
   "id": "TarmeeGneDFb",
   "metadata": {
    "id": "TarmeeGneDFb"
   },
   "source": [
    "### Evaluate the linear regression model"
   ]
  },
  {
   "cell_type": "code",
   "execution_count": 15,
   "id": "dba9ff00",
   "metadata": {
    "colab": {
     "base_uri": "https://localhost:8080/"
    },
    "executionInfo": {
     "elapsed": 8,
     "status": "ok",
     "timestamp": 1716808828969,
     "user": {
      "displayName": "Jonas Klesen",
      "userId": "16201315161566161330"
     },
     "user_tz": -120
    },
    "id": "dba9ff00",
    "outputId": "a508ea65-c71f-4a67-b665-647c5a88e169"
   },
   "outputs": [
    {
     "ename": "NameError",
     "evalue": "name 'best_estimator' is not defined",
     "output_type": "error",
     "traceback": [
      "\u001b[1;31m---------------------------------------------------------------------------\u001b[0m",
      "\u001b[1;31mNameError\u001b[0m                                 Traceback (most recent call last)",
      "Cell \u001b[1;32mIn[15], line 3\u001b[0m\n\u001b[0;32m      1\u001b[0m \u001b[38;5;28;01mfrom\u001b[39;00m \u001b[38;5;21;01msklearn\u001b[39;00m\u001b[38;5;21;01m.\u001b[39;00m\u001b[38;5;21;01mmetrics\u001b[39;00m \u001b[38;5;28;01mimport\u001b[39;00m PredictionErrorDisplay\n\u001b[1;32m----> 3\u001b[0m regressor_name \u001b[38;5;241m=\u001b[39m best_estimator\u001b[38;5;241m.\u001b[39mnamed_steps[\u001b[38;5;124m\"\u001b[39m\u001b[38;5;124mregression\u001b[39m\u001b[38;5;124m\"\u001b[39m]\u001b[38;5;241m.\u001b[39m\u001b[38;5;18m__class__\u001b[39m\u001b[38;5;241m.\u001b[39m\u001b[38;5;18m__name__\u001b[39m\n\u001b[0;32m      5\u001b[0m datasets \u001b[38;5;241m=\u001b[39m {\n\u001b[0;32m      6\u001b[0m     \u001b[38;5;124m\"\u001b[39m\u001b[38;5;124mTraining data\u001b[39m\u001b[38;5;124m\"\u001b[39m: [X_train_reg, y_train_reg],\n\u001b[0;32m      7\u001b[0m     \u001b[38;5;124m\"\u001b[39m\u001b[38;5;124mValidation data\u001b[39m\u001b[38;5;124m\"\u001b[39m: [X_test_reg, y_test_reg],\n\u001b[0;32m      8\u001b[0m }\n\u001b[0;32m     10\u001b[0m rows \u001b[38;5;241m=\u001b[39m []  \u001b[38;5;66;03m# For a PrettyTable\u001b[39;00m\n",
      "\u001b[1;31mNameError\u001b[0m: name 'best_estimator' is not defined"
     ]
    }
   ],
   "source": [
    "from sklearn.metrics import PredictionErrorDisplay\n",
    "\n",
    "regressor_name = best_estimator.named_steps[\"regression\"].__class__.__name__\n",
    "\n",
    "datasets = {\n",
    "    \"Training data\": [X_train_reg, y_train_reg],\n",
    "    \"Validation data\": [X_test_reg, y_test_reg],\n",
    "}\n",
    "\n",
    "rows = []  # For a PrettyTable\n",
    "for split_name, dataset in datasets.items():\n",
    "    X_i, y_i = dataset\n",
    "    y_pred = best_estimator.predict(X_i)\n",
    "    y_pred_transformed = best_estimator_y_transformed.predict(X_i)\n",
    "\n",
    "    # Compute the regression metrics\n",
    "    rmse, mae, medse, medae, r2 = compute_scores(y_i, y_pred)\n",
    "    rmse_transformed, mae_transformed, medse_transformed, medae_transformed, r2_transformed = (\n",
    "        compute_scores(y_i, y_pred_transformed)\n",
    "    )\n",
    "\n",
    "    # Round them to 3 decimal places\n",
    "    rmse, mae, medse, medae, r2 = round_values(rmse, mae, medse, medae, r2)\n",
    "    rmse_transformed, mae_transformed, medse_transformed, medae_transformed, r2_transformed = (\n",
    "        round_values(\n",
    "            rmse_transformed, mae_transformed, medse_transformed, medae_transformed, r2_transformed\n",
    "        )\n",
    "    )\n",
    "\n",
    "    f, (ax0, ax1) = plt.subplots(2, 2, sharey=\"row\", figsize=(10, 8), constrained_layout=True)\n",
    "\n",
    "    # plot the actual vs predicted values\n",
    "    PredictionErrorDisplay.from_predictions(\n",
    "        y_i,\n",
    "        y_pred,\n",
    "        kind=\"actual_vs_predicted\",\n",
    "        ax=ax0[0],\n",
    "        scatter_kwargs={\"alpha\": 0.5},\n",
    "    )\n",
    "    PredictionErrorDisplay.from_predictions(\n",
    "        y_i,\n",
    "        y_pred_transformed,\n",
    "        kind=\"actual_vs_predicted\",\n",
    "        ax=ax0[1],\n",
    "        scatter_kwargs={\"alpha\": 0.5},\n",
    "    )\n",
    "\n",
    "    # Add the score in the legend of each axis\n",
    "    for ax, scores in zip(\n",
    "        [ax0[0], ax0[1]], [[rmse, mae, r2], [rmse_transformed, mae_transformed, r2_transformed]]\n",
    "    ):\n",
    "        for name, score in zip([\"RMSE\", \"MAE\", \"$R^2$\"], scores):\n",
    "            ax.plot([], [], \" \", label=f\"{name} = {score}\")\n",
    "        ax.legend(loc=\"upper left\")\n",
    "\n",
    "    ax0[0].set_title(f\"{regressor_name}\")\n",
    "    ax0[1].set_title(f\"{regressor_name}\\nWith $y$ transformed\")\n",
    "    ax0[0].set_xlabel(\"\")\n",
    "    ax0[1].set_xlabel(\"\")\n",
    "\n",
    "    # plot the residuals vs the predicted values\n",
    "    PredictionErrorDisplay.from_predictions(\n",
    "        y_i,\n",
    "        y_pred,\n",
    "        kind=\"residual_vs_predicted\",\n",
    "        ax=ax1[0],\n",
    "        scatter_kwargs={\"alpha\": 0.5},\n",
    "    )\n",
    "    PredictionErrorDisplay.from_predictions(\n",
    "        y_i,\n",
    "        y_pred_transformed,\n",
    "        kind=\"residual_vs_predicted\",\n",
    "        ax=ax1[1],\n",
    "        scatter_kwargs={\"alpha\": 0.5},\n",
    "    )\n",
    "    ax1[1].set_ylabel(\"\")\n",
    "\n",
    "    plt.suptitle(f\"Regression metrics for {regressor_name} on {split_name.capitalize()}\")\n",
    "    plt.tight_layout()\n",
    "    plt.show()\n",
    "\n",
    "    print(\"\\n\\n\")\n",
    "\n",
    "    rows.append([split_name, rmse, mae, medse, medae, r2])\n",
    "    rows.append(\n",
    "        [\n",
    "            \" (y-transformed)\",\n",
    "            rmse_transformed,\n",
    "            mae_transformed,\n",
    "            medse_transformed,\n",
    "            medae_transformed,\n",
    "            r2_transformed,\n",
    "        ]\n",
    "    )\n",
    "\n",
    "print(\n",
    "    make_pretty_table(rows, title=\"Regression metrics\", field_names=[\"Split\", \"RMSE\", \"MAE\", \"MedSE\", \"MedAE\", \"R^2\"])\n",
    ")"
   ]
  },
  {
   "cell_type": "markdown",
   "id": "5818dbc4",
   "metadata": {
    "id": "5818dbc4"
   },
   "source": [
    "### Export test set predictions for regression task"
   ]
  },
  {
   "cell_type": "markdown",
   "id": "qBItenN5erIi",
   "metadata": {
    "id": "qBItenN5erIi"
   },
   "source": [
    "At this point, we can use our model to predict the medical expenses from the test sets. The following cell shows an example on how to do this.\n",
    "\n",
    "You must save your predictions (`y_hat`) to a file and name the file in the following format:\n",
    "\n",
    "`<TEAM_ID>__<SPLIT>__reg_pred.npy`\n",
    "\n",
    "Make sure that:\n",
    "\n",
    "`<TEAM_ID>` is your team id as given in CMS.\n",
    "\n",
    "`<SPLIT>` is \"test_public\" during the semester and \"test_private\" for the final submission. We will write an announcement to CMS once the test_private dataset is available to download."
   ]
  },
  {
   "cell_type": "code",
   "execution_count": 26,
   "id": "91ee5e03",
   "metadata": {
    "executionInfo": {
     "elapsed": 384,
     "status": "ok",
     "timestamp": 1716808940546,
     "user": {
      "displayName": "Jonas Klesen",
      "userId": "16201315161566161330"
     },
     "user_tz": -120
    },
    "id": "91ee5e03"
   },
   "outputs": [],
   "source": [
    "# Run this to save a file with your predictions on the test set to be submitted\n",
    "# Specify the dataset split\n",
    "split = \"test_public\"  # Replace by 'test_private' for FINAL submission\n",
    "\n",
    "# Load the test data\n",
    "df_test = pd.read_csv(f\"data/{split}.csv\")\n",
    "\n",
    "y_hat = best_estimator.predict(df_test)\n",
    "\n",
    "# Save the results with the format <TEAM_ID>__<SPLIT>__reg_pred.npy\n",
    "folder = \"./results\"\n",
    "np.save(\n",
    "    os.path.join(folder, f\"{team_id}__{split}__reg_pred.npy\"), y_hat\n",
    ")  # Note the double underscores '__' in the filename"
   ]
  },
  {
   "cell_type": "markdown",
   "id": "34410538",
   "metadata": {
    "id": "34410538"
   },
   "source": [
    "# Linear classification"
   ]
  },
  {
   "cell_type": "markdown",
   "id": "WeqFeth6hb6w",
   "metadata": {
    "id": "WeqFeth6hb6w"
   },
   "source": [
    "In this part, we will train a simple linear classification model to predict our target `UTILIZATION`.\n"
   ]
  },
  {
   "cell_type": "code",
   "execution_count": 22,
   "id": "b1a46f9d",
   "metadata": {},
   "outputs": [
    {
     "ename": "NameError",
     "evalue": "name 'X_processed' is not defined",
     "output_type": "error",
     "traceback": [
      "\u001b[1;31m---------------------------------------------------------------------------\u001b[0m",
      "\u001b[1;31mNameError\u001b[0m                                 Traceback (most recent call last)",
      "Cell \u001b[1;32mIn[22], line 4\u001b[0m\n\u001b[0;32m      1\u001b[0m k_classification \u001b[38;5;241m=\u001b[39m \u001b[38;5;241m20\u001b[39m  \u001b[38;5;66;03m# Number of top features to select for classification\u001b[39;00m\n\u001b[0;32m      2\u001b[0m select_k_best_classification \u001b[38;5;241m=\u001b[39m SelectKBest(score_func\u001b[38;5;241m=\u001b[39mchi2, k\u001b[38;5;241m=\u001b[39mk_classification)\n\u001b[0;32m      3\u001b[0m X_classification_selected \u001b[38;5;241m=\u001b[39m select_k_best_classification\u001b[38;5;241m.\u001b[39mfit_transform(\n\u001b[1;32m----> 4\u001b[0m     \u001b[43mX_processed\u001b[49m, y_classification\n\u001b[0;32m      5\u001b[0m )\n\u001b[0;32m      6\u001b[0m selected_features_classification \u001b[38;5;241m=\u001b[39m select_k_best_classification\u001b[38;5;241m.\u001b[39mget_support(indices\u001b[38;5;241m=\u001b[39m\u001b[38;5;28;01mTrue\u001b[39;00m)\n",
      "\u001b[1;31mNameError\u001b[0m: name 'X_processed' is not defined"
     ]
    }
   ],
   "source": [
    "k_classification = 20  # Number of top features to select for classification\n",
    "select_k_best_classification = SelectKBest(score_func=chi2, k=k_classification)\n",
    "X_classification_selected = select_k_best_classification.fit_transform(\n",
    "    X_processed, y_classification\n",
    ")\n",
    "selected_features_classification = select_k_best_classification.get_support(indices=True)"
   ]
  },
  {
   "cell_type": "markdown",
   "id": "_QIyfxXthmTT",
   "metadata": {
    "id": "_QIyfxXthmTT"
   },
   "source": [
    "We will first change our targets (classes: LOW, HIGH) to numeric targets. Then, we solve a logistic regression problem by minimizing the binary cross-entropy function\n",
    "\n",
    "$$\n",
    "J(\\theta) = -\\frac{1}{n} \\sum_{i=1}^{n} \\left( y_i \\log(p_{\\theta}(\\hat{y}=1 | \\mathbf{x}_i)) + (1 - y_i) \\log(p_{\\theta}(\\hat{y}=0 | \\mathbf{x}_i)) \\right)\n",
    "$$\n",
    "\n",
    "where $y_i \\in \\{0, 1\\}$ and $p_{\\theta}(\\hat{y}=k | \\mathbf{x}_i)$ is the probability assigned by our model to class $k$ having observed features $\\mathbf{x}_i$.\n",
    "\n",
    "0 refers to HIGH, and 1 refers to LOW"
   ]
  },
  {
   "cell_type": "markdown",
   "id": "f6d08d2d",
   "metadata": {
    "id": "f6d08d2d"
   },
   "source": [
    "### Process the data"
   ]
  },
  {
   "cell_type": "code",
   "execution_count": 23,
   "id": "5f516bc9",
   "metadata": {
    "colab": {
     "base_uri": "https://localhost:8080/"
    },
    "executionInfo": {
     "elapsed": 744,
     "status": "ok",
     "timestamp": 1716809033654,
     "user": {
      "displayName": "Jonas Klesen",
      "userId": "16201315161566161330"
     },
     "user_tz": -120
    },
    "id": "5f516bc9",
    "outputId": "277dbcdf-5798-4312-a723-3d1ae52645c6"
   },
   "outputs": [
    {
     "ename": "NameError",
     "evalue": "name 'preprocessing' is not defined",
     "output_type": "error",
     "traceback": [
      "\u001b[1;31m---------------------------------------------------------------------------\u001b[0m",
      "\u001b[1;31mNameError\u001b[0m                                 Traceback (most recent call last)",
      "Cell \u001b[1;32mIn[23], line 7\u001b[0m\n\u001b[0;32m      3\u001b[0m y \u001b[38;5;241m=\u001b[39m df_train[\u001b[38;5;124m\"\u001b[39m\u001b[38;5;124mUTILIZATION\u001b[39m\u001b[38;5;124m\"\u001b[39m]\n\u001b[0;32m      5\u001b[0m df_train\u001b[38;5;241m.\u001b[39mdrop(columns\u001b[38;5;241m=\u001b[39m[\u001b[38;5;124m\"\u001b[39m\u001b[38;5;124mUTILIZATION\u001b[39m\u001b[38;5;124m\"\u001b[39m, \u001b[38;5;124m\"\u001b[39m\u001b[38;5;124mTOT_MED_EXP\u001b[39m\u001b[38;5;124m\"\u001b[39m])\n\u001b[1;32m----> 7\u001b[0m le \u001b[38;5;241m=\u001b[39m \u001b[43mpreprocessing\u001b[49m\u001b[38;5;241m.\u001b[39mLabelEncoder()\n\u001b[0;32m      8\u001b[0m df_test[\u001b[38;5;124m\"\u001b[39m\u001b[38;5;124mRACE\u001b[39m\u001b[38;5;124m\"\u001b[39m] \u001b[38;5;241m=\u001b[39m le\u001b[38;5;241m.\u001b[39mfit_transform(df_test[\u001b[38;5;124m\"\u001b[39m\u001b[38;5;124mRACE\u001b[39m\u001b[38;5;124m\"\u001b[39m])\n\u001b[0;32m     10\u001b[0m y \u001b[38;5;241m=\u001b[39m le\u001b[38;5;241m.\u001b[39mfit_transform(y)  \u001b[38;5;66;03m# maps HIGH to 0 and LOW to 1\u001b[39;00m\n",
      "\u001b[1;31mNameError\u001b[0m: name 'preprocessing' is not defined"
     ]
    }
   ],
   "source": [
    "df_train = pd.read_csv(f\"data/train.csv\")\n",
    "\n",
    "y = df_train[\"UTILIZATION\"]\n",
    "\n",
    "df_train.drop(columns=[\"UTILIZATION\", \"TOT_MED_EXP\"])\n",
    "\n",
    "le = preprocessing.LabelEncoder()\n",
    "df_test[\"RACE\"] = le.fit_transform(df_test[\"RACE\"])\n",
    "\n",
    "y = le.fit_transform(y)  # maps HIGH to 0 and LOW to 1\n",
    "\n",
    "print(f\"Original classes {le.classes_}\")\n",
    "print(f\"Corresponding numeric classes {le.transform(le.classes_)}\")\n",
    "\n",
    "\n",
    "print(f\"Shape of X: {X.shape}\")\n",
    "print(f\"Shape of y: {y.shape}\", f\", unique entries in y: {np.unique(y)}\")\n",
    "\n",
    "X_train, X_val, y_train, y_val = train_test_split(X, y, test_size=0.2, random_state=42)\n",
    "\n",
    "# These hyperparameters are just placeholders, choosen without much care. For a good LogisticRegression baseline, play with them a bit.\n",
    "clf = linear_model.LogisticRegression(\n",
    "    penalty=None,\n",
    "    dual=False,\n",
    "    tol=0.0001,\n",
    "    C=1.0,\n",
    "    fit_intercept=True,\n",
    "    intercept_scaling=1,\n",
    "    class_weight=None,  # None, balanced\n",
    "    random_state=None,\n",
    "    solver=\"lbfgs\",\n",
    "    max_iter=1500,\n",
    "    multi_class=\"auto\",\n",
    "    verbose=0,\n",
    "    warm_start=False,\n",
    "    n_jobs=None,\n",
    "    l1_ratio=None,\n",
    ")"
   ]
  },
  {
   "cell_type": "markdown",
   "id": "0S5pf_bA2XAV",
   "metadata": {
    "id": "0S5pf_bA2XAV"
   },
   "source": [
    "### Fit the model by using training data"
   ]
  },
  {
   "cell_type": "code",
   "execution_count": null,
   "id": "c167c0b4",
   "metadata": {
    "colab": {
     "base_uri": "https://localhost:8080/"
    },
    "executionInfo": {
     "elapsed": 4083,
     "status": "ok",
     "timestamp": 1716809070913,
     "user": {
      "displayName": "Jonas Klesen",
      "userId": "16201315161566161330"
     },
     "user_tz": -120
    },
    "id": "c167c0b4",
    "outputId": "b6c6a051-fc21-42d1-ab55-cd4dd453eddc"
   },
   "outputs": [],
   "source": [
    "clf = clf.fit(X_train, y_train)"
   ]
  },
  {
   "cell_type": "markdown",
   "id": "URLzKp2J2x6i",
   "metadata": {
    "id": "URLzKp2J2x6i"
   },
   "source": [
    "Now evaluate your model. Check the appendix for details on micro, macro and weighted averaging"
   ]
  },
  {
   "cell_type": "code",
   "execution_count": null,
   "id": "ff8e0e50",
   "metadata": {
    "colab": {
     "base_uri": "https://localhost:8080/"
    },
    "executionInfo": {
     "elapsed": 396,
     "status": "ok",
     "timestamp": 1716809077809,
     "user": {
      "displayName": "Jonas Klesen",
      "userId": "16201315161566161330"
     },
     "user_tz": -120
    },
    "id": "ff8e0e50",
    "outputId": "faa68cba-35cf-4203-c592-4879fdb63226"
   },
   "outputs": [],
   "source": [
    "datasets = {\"training data\": [X_train, y_train], \"validation data\": [X_val, y_val]}\n",
    "\n",
    "for split_name, dataset in datasets.items():\n",
    "    X_i, y_i = dataset\n",
    "    y_pred = clf.predict(X_i)\n",
    "    print(f\"\\nSplit: {split_name}\")\n",
    "\n",
    "    print(skm.classification_report(y_i, y_pred))"
   ]
  },
  {
   "cell_type": "markdown",
   "id": "sGxdMSXO2-xH",
   "metadata": {
    "id": "sGxdMSXO2-xH"
   },
   "source": [
    "At this point, we can use our model to predict healthcare utilization on the test set.\n",
    "\n",
    "We again need to follow a specific namim format when saving the predictions. Similarly to before, the name of the file should be `<TEAM_ID>__<SPLIT>__clf_pred.npy`.\n",
    "\n"
   ]
  },
  {
   "cell_type": "code",
   "execution_count": null,
   "id": "d0cea870",
   "metadata": {
    "executionInfo": {
     "elapsed": 6,
     "status": "ok",
     "timestamp": 1716808592027,
     "user": {
      "displayName": "Jonas Klesen",
      "userId": "16201315161566161330"
     },
     "user_tz": -120
    },
    "id": "d0cea870"
   },
   "outputs": [],
   "source": [
    "# Run this to save a file with your predictions on the test set to be submitted\n",
    "\n",
    "split = \"test_public\"  # replace by 'test_private' for FINAL submission\n",
    "\n",
    "df_test = pd.read_csv(f\"data/{split}.csv\")\n",
    "\n",
    "# Process data\n",
    "df_test[\"RACE\"] = LabelEncoder().fit_transform(df_test[\"RACE\"])\n",
    "\n",
    "y_hat = clf.predict(df_test)\n",
    "\n",
    "# Save the results with the format <TEAM_ID>__<SPLIT>__clf_pred.npy\n",
    "\n",
    "folder = \"./\"\n",
    "np.save(os.path.join(folder, f\"{team_id}__{split}__clf_pred.npy\"), y_hat)"
   ]
  },
  {
   "cell_type": "markdown",
   "id": "CMofiwvW5Sd8",
   "metadata": {
    "id": "CMofiwvW5Sd8"
   },
   "source": [
    "# Submission to CMS"
   ]
  },
  {
   "cell_type": "markdown",
   "id": "n-7pww1o3iWN",
   "metadata": {
    "id": "n-7pww1o3iWN"
   },
   "source": [
    "Put your .npy files for both regression and classification tasks in the same zip file. Please name the file as `<TEAM_ID>.zip` (e.g. `123.zip`) and upload it to CMS system. It is essential that the files inside the .zip are named as follow:\n",
    "\n",
    "`<TEAM_ID>__<SPLIT>__reg_pred.npy` \\\n",
    "`<TEAM_ID>__<SPLIT>__clf_pred.npy`\n",
    "\n",
    "Above, `<SPLIT>` should correspond to `test_public` for the leaderboard and `test_private` for the final submission.\n",
    "As long as the `test_private.csv` data file is not released yet, the zip will contain only two files.\n"
   ]
  },
  {
   "cell_type": "code",
   "execution_count": null,
   "id": "B75zOG1F-KAQ",
   "metadata": {
    "executionInfo": {
     "elapsed": 5,
     "status": "ok",
     "timestamp": 1716808592027,
     "user": {
      "displayName": "Jonas Klesen",
      "userId": "16201315161566161330"
     },
     "user_tz": -120
    },
    "id": "B75zOG1F-KAQ"
   },
   "outputs": [],
   "source": []
  },
  {
   "cell_type": "markdown",
   "id": "13b5b570",
   "metadata": {
    "id": "13b5b570"
   },
   "source": []
  },
  {
   "cell_type": "markdown",
   "id": "340467b3",
   "metadata": {
    "id": "340467b3"
   },
   "source": [
    "### Appendix: Reminders about macro and micro averaging:\n",
    "\n",
    "When evaluating a classification model using `skm.classification_report(y_i, y_pred)` as done above, we get a macro and a weighted average.\n",
    "\n",
    "In the context of computing F1-score, \"macro\" and \"micro\" averaging are two commonly used techniques to aggregate the per-class F1-scores.\n",
    "\n",
    "**Micro-average**: Compute the F1-score globally by counting the total true positives, false negatives, and false positives over all classes, and then calculating precision, recall, and F1-score using these aggregated values.\n",
    "\n",
    "**Macro-average**: Calculate the F1-score for each class separately, and then take the average of these per-class F1-scores.\n",
    "\n",
    "The main difference between these two techniques is the way they treat class imbalance. Micro-average treats all classes equally, regardless of their size, while macro-average treats each class equally, regardless of the number of samples in that class.\n",
    "\n",
    "Micro-average is often used when we care about overall performance across all classes, and we want to give more weight to the performance on larger classes. In contrast, macro-average is often used when we want to evaluate the performance on each class separately and give equal weight to each class.\n",
    "\n",
    "\n",
    "In addition to micro and macro averaging, there is another common technique for computing the F1-score called **weighted averaging**.\n",
    "\n",
    "**Weighted averaging** is similar to macro averaging in that it computes the per-class F1-score and then takes the average of these scores. However, unlike macro averaging, weighted averaging takes into account the number of samples in each class when computing the average. Specifically, the weighted average is computed as follows:\n",
    "\n",
    "- Compute the F1-score for each class separately.\n",
    "- Compute the weight for each class as the number of samples in that class divided by the total number of samples.\n",
    "- Compute the weighted average of the per-class F1-scores, where each per-class F1-score is weighted by the weight of that class.\n",
    "\n",
    "The weighted average is commonly used when the dataset is imbalanced, meaning that some classes have many more samples than others. In such cases, using the simple average (macro-average) would give too much weight to the smaller classes, while using micro-average would give too much weight to the larger classes. The weighted average strikes a balance between these two approaches by giving more weight to the classes with more samples while still taking into account the performance of all classes.\n"
   ]
  },
  {
   "cell_type": "markdown",
   "id": "a82d2dc3",
   "metadata": {
    "id": "a82d2dc3"
   },
   "source": [
    "When computing the F1 score for the leaderboard and the final challenge results, we will be using the macro averaging strategy."
   ]
  },
  {
   "cell_type": "markdown",
   "id": "9b8dd1b2",
   "metadata": {
    "id": "9b8dd1b2"
   },
   "source": []
  }
 ],
 "metadata": {
  "colab": {
   "provenance": []
  },
  "kernelspec": {
   "display_name": "Python 3 (ipykernel)",
   "language": "python",
   "name": "python3"
  },
  "language_info": {
   "codemirror_mode": {
    "name": "ipython",
    "version": 3
   },
   "file_extension": ".py",
   "mimetype": "text/x-python",
   "name": "python",
   "nbconvert_exporter": "python",
   "pygments_lexer": "ipython3",
   "version": "3.11.9"
  }
 },
 "nbformat": 4,
 "nbformat_minor": 5
}
